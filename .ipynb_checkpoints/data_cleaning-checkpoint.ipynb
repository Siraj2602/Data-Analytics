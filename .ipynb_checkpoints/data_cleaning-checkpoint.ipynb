{
 "cells": [
  {
   "cell_type": "code",
   "execution_count": 25,
   "metadata": {},
   "outputs": [],
   "source": [
    "import pandas as pd\n",
    "from sklearn.preprocessing import StandardScaler\n",
    "from sklearn.decomposition import PCA\n",
    "import os\n",
    "import numpy as np\n",
    "import pandas as pd\n",
    "import numpy as np\n",
    "from sklearn.metrics.pairwise import cosine_similarity\n",
    "from scipy.spatial.distance import minkowski"
   ]
  },
  {
   "cell_type": "code",
   "execution_count": 22,
   "metadata": {},
   "outputs": [],
   "source": [
    "#Cleaning and PCA\n",
    "data = pd.read_csv(\"/kaggle/input/players_17.csv\")\n",
    "data = data.drop([\"player_url\",\"dob\",\"real_face\",\"player_traits\",\"long_name\",\"player_tags\",\"body_type\"],axis=1)\n",
    "\n",
    "data.fillna(value=0, axis=0, inplace=True)\n",
    "\n",
    "data[\"player_positions\"] = data[\"player_positions\"].apply(lambda x: x.split(\",\"))\n",
    "print(data[\"player_positions\"].head())\n",
    "strings = [\"short_name\",\"nationality\",\"club\",\"preferred_foot\",\"work_rate\",\"team_position\",\"loaned_from\",\"joined\",\"nation_position\"] \n",
    "\n",
    "for i in data:\n",
    "    if data[i].dtype == \"object\" and i not in strings:\n",
    "        data[i] = data[i].apply(lambda x: eval(str(x)))\n",
    "for i in range (len(data)):\n",
    "    if data.at[i,\"age\"]<23:\n",
    "        data.at[i,\"overall\"]=(data.at[i,\"overall\"]+data.at[i,\"potential\"])/2\n",
    "        \n",
    "data_pca = data.drop([\"short_name\",\"nationality\",\"club\",\"preferred_foot\",\"work_rate\",\"team_position\",\"loaned_from\",\"joined\",\"nation_position\",\"player_positions\"] , axis = 1)\n",
    "\n",
    "def groupPosition(df):\n",
    "    defs = r'\\w*B$'\n",
    "    mids = r'\\w*M$'\n",
    "    fwds = r'\\w*[FSTW]$'\n",
    "    \n",
    "    groupPositions = []\n",
    "    for index, row in df.iterrows():\n",
    "        position = row['player_positions[0]']\n",
    "        if re.match(defs, position):\n",
    "            groupPositions.append('DEF')\n",
    "        if re.match(mids, position):\n",
    "            groupPositions.append('MID')\n",
    "        if re.match(fwds, position):\n",
    "            groupPositions.append('FWD')\n",
    "    series = pd.Series(groupPositions)\n",
    "    data['Position'] = series\n",
    "    \n",
    "#groupPosition(data)"
   ]
  },
  {
   "cell_type": "code",
   "execution_count": 24,
   "metadata": {},
   "outputs": [],
   "source": [
    "#Recommending the best 11 players\n",
    "grouped_data = data.groupby(\"club\")\n",
    "\n",
    "SIMILAR_CENTRAL_POSITIONS = ['CB', 'CDM', 'CM', 'CAM', 'CF', 'ST']\n",
    "SIMILAR_SIDE_POSITIONS = ['LB', 'RB', 'LWB', 'RWB', 'LM', 'RM', 'LW', 'RW']\n",
    "\n",
    "\n",
    "formations = dict()\n",
    "formations = {\n",
    "        '433': ['GK', 'LB', 'CB', 'CB', 'RB', 'CM', 'CM', 'CAM', 'LW', 'RW', 'ST'],\n",
    "        '442': ['GK', 'LB', 'CB', 'CB', 'RB', 'CDM', 'RM', 'LM', 'CAM', 'ST', 'ST'],\n",
    "        '352': ['GK', 'CB', 'CB', 'CB', 'CDM', 'CM', 'CM', 'CAM', 'CAM', 'CF', 'ST'],\n",
    "        '532': ['GK', 'LWB','CB', 'CB', 'CB','RWB', 'CM', 'CM', 'CAM', 'CF', 'ST']\n",
    "        '4222':['GK', 'LB','CB', 'CB', 'RB','CDM', 'CDM', 'CM', 'CM', 'CF', 'ST']\n",
    "    }\n",
    "\n",
    "current_formation = \"433\"\n",
    "current_club = \"FC Barcelona\"\n",
    "\n",
    "best_players = []\n",
    "all_players = data.loc[data[\"club\"] == current_club]\n",
    "\n",
    "player_features = (\n",
    "    'Acceleration', 'Aggression', 'Agility', \n",
    "    'Balance', 'BallControl', 'Composure', \n",
    "    'Crossing', 'Dribbling', 'FKAccuracy', \n",
    "    'Finishing','HeadingAccuracy', 'Interceptions', 'Jumping', \n",
    "    'LongPassing', 'LongShots', 'Marking', 'Penalties'\n",
    ")\n",
    "\n",
    "#for i, val in data.groupby(data['Position'])[player_characteristics].mean().iterrows():\n",
    "  #  print('Position {}: {}, {}, {}'.format(i, *tuple(val.nlargest(3).index)))\n",
    "\n",
    "\n",
    "\n",
    "\n",
    "\n",
    "\n",
    "    \n",
    "      \n",
    "    \n"
   ]
  },
  {
   "cell_type": "code",
   "execution_count": null,
   "metadata": {},
   "outputs": [],
   "source": [
    "def playerSimilarity(p1, p2):\n",
    "  \n",
    "    cosine = np.dot(p1,p2)/(np.linalg.norm(p1)*(np.linalg.norm(p2)))\n",
    "    r =  np.sqrt(sum([i ** 2 for i in p1]))\n",
    "    return r * cosine"
   ]
  }
 ],
 "metadata": {
  "kernelspec": {
   "display_name": "Python 3",
   "language": "python",
   "name": "python3"
  },
  "language_info": {
   "codemirror_mode": {
    "name": "ipython",
    "version": 3
   },
   "file_extension": ".py",
   "mimetype": "text/x-python",
   "name": "python",
   "nbconvert_exporter": "python",
   "pygments_lexer": "ipython3",
   "version": "3.6.8"
  }
 },
 "nbformat": 4,
 "nbformat_minor": 2
}
